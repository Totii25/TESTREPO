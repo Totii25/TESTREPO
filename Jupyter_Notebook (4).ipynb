{
 "cells": [
  {
   "cell_type": "markdown",
   "metadata": {},
   "source": [
    "<center>\n",
    "    <img src=\"https://cf-courses-data.s3.us.cloud-object-storage.appdomain.cloud/IBMDeveloperSkillsNetwork-DS0105EN-SkillsNetwork/labs/Module2/images/SN_web_lightmode.png\" width=\"300\" alt=\"cognitiveclass.ai logo\">\n",
    "</center>\n"
   ]
  },
  {
   "cell_type": "markdown",
   "metadata": {},
   "source": [
    "#### Add your code below following the instructions given in the course\n"
   ]
  },
  {
   "cell_type": "code",
   "execution_count": null,
   "metadata": {},
   "outputs": [],
   "source": [
    "# Proyecto Jupyter"
   ]
  },
  {
   "cell_type": "code",
   "execution_count": null,
   "metadata": {},
   "outputs": [],
   "source": [
    "## Introducción\n",
    "\n",
    "Este es mi cuaderno (notebook) sobre mi proyecto final en Jupyter, perteneciente al micro curso \"Tools for Data Science\"."
   ]
  },
  {
   "cell_type": "code",
   "execution_count": null,
   "metadata": {},
   "outputs": [],
   "source": [
    "## Lenguajes para Data Science\n",
    "\n",
    "-Python\n",
    "\n",
    "-R\n",
    "\n",
    "-SQL\n",
    "\n",
    "-Java\n",
    "\n",
    "-Julia\n",
    "\n",
    "-Scala"
   ]
  },
  {
   "cell_type": "code",
   "execution_count": null,
   "metadata": {},
   "outputs": [],
   "source": [
    "## Librerías para Data Science\n",
    "\n",
    "-Pandas\n",
    "\n",
    "-NumPy\n",
    "\n",
    "-Matplotlib\n",
    "\n",
    "-Seaborn\n",
    "\n",
    "-Scikit-learn\n",
    "\n",
    "-TensorFlow\n",
    "\n",
    "-PyTorch"
   ]
  },
  {
   "cell_type": "code",
   "execution_count": null,
   "metadata": {},
   "outputs": [],
   "source": [
    "## Herramientas para Data Science Tools\n",
    "\n",
    "| Tool             | Category                |\n",
    "|------------------|-------------------------|\n",
    "| Jupyter Notebook | IDE/Interactive Coding  |\n",
    "| RStudio          | IDE                     |\n",
    "| Apache Spark     | Big Data Processing     |\n",
    "| TensorFlow       | Machine Learning        |"
   ]
  },
  {
   "cell_type": "code",
   "execution_count": null,
   "metadata": {},
   "outputs": [],
   "source": [
    "## Ejemplos de expresiones aritméticas\n",
    "\n",
    "- Adición: `2 + 3`\n",
    "- Sustracción: `7 - 4`\n",
    "- Multiplicación: `5 * 6`\n",
    "- División: `8 / 2`"
   ]
  },
  {
   "cell_type": "code",
   "execution_count": null,
   "metadata": {},
   "outputs": [],
   "source": [
    "## Multiplicar números\n",
    "1 * 12\n",
    "\n",
    "## Sumar Números\n",
    "3 + 11"
   ]
  },
  {
   "cell_type": "code",
   "execution_count": null,
   "metadata": {},
   "outputs": [],
   "source": [
    "## Convertir minutos a horas\n",
    "minutos = 180\n",
    "horas = minutos / 60"
   ]
  },
  {
   "cell_type": "code",
   "execution_count": null,
   "metadata": {},
   "outputs": [],
   "source": [
    "## Lista de objetivos\n",
    "objetivos = [\"Aprender lenguajes de Data Science\", \"Practicar con bibliotecas\", \"Trabajar con herramientas\", \"Realizar cálculos sencillos\"]\n",
    "objetivos"
   ]
  },
  {
   "cell_type": "code",
   "execution_count": null,
   "metadata": {},
   "outputs": [],
   "source": [
    "## Autor\n",
    "Rodrigo Huayanay Cerrón"
   ]
  }
 ],
 "metadata": {
  "kernelspec": {
   "display_name": "Python 3 (ipykernel)",
   "language": "python",
   "name": "python3"
  },
  "language_info": {
   "codemirror_mode": {
    "name": "ipython",
    "version": 3
   },
   "file_extension": ".py",
   "mimetype": "text/x-python",
   "name": "python",
   "nbconvert_exporter": "python",
   "pygments_lexer": "ipython3",
   "version": "3.12.8"
  }
 },
 "nbformat": 4,
 "nbformat_minor": 4
}
